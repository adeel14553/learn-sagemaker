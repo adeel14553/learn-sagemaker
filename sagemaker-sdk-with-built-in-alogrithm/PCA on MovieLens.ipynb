{
 "cells": [
  {
   "cell_type": "markdown",
   "metadata": {},
   "source": [
    "# PCA on MovieLens"
   ]
  },
  {
   "cell_type": "markdown",
   "metadata": {},
   "source": [
    "### Download ml-100k dataset"
   ]
  },
  {
   "cell_type": "code",
   "execution_count": 3,
   "metadata": {
    "scrolled": true
   },
   "outputs": [
    {
     "name": "stdout",
     "output_type": "stream",
     "text": [
      "Archive:  ml-100k.zip\n",
      "  inflating: ml-100k/allbut.pl       \n",
      "  inflating: ml-100k/mku.sh          \n",
      "  inflating: ml-100k/README          \n",
      "  inflating: ml-100k/u.data          \n",
      "  inflating: ml-100k/u.genre         \n",
      "  inflating: ml-100k/u.info          \n",
      "  inflating: ml-100k/u.item          \n",
      "  inflating: ml-100k/u.occupation    \n",
      "  inflating: ml-100k/u.user          \n",
      "  inflating: ml-100k/u1.base         \n",
      "  inflating: ml-100k/u1.test         \n",
      "  inflating: ml-100k/u2.base         \n",
      "  inflating: ml-100k/u2.test         \n",
      "  inflating: ml-100k/u3.base         \n",
      "  inflating: ml-100k/u3.test         \n",
      "  inflating: ml-100k/u4.base         \n",
      "  inflating: ml-100k/u4.test         \n",
      "  inflating: ml-100k/u5.base         \n",
      "  inflating: ml-100k/u5.test         \n",
      "  inflating: ml-100k/ua.base         \n",
      "  inflating: ml-100k/ua.test         \n",
      "  inflating: ml-100k/ub.base         \n",
      "  inflating: ml-100k/ub.test         \n"
     ]
    },
    {
     "name": "stderr",
     "output_type": "stream",
     "text": [
      "--2021-06-19 13:11:24--  http://files.grouplens.org/datasets/movielens/ml-100k.zip\n",
      "Resolving files.grouplens.org (files.grouplens.org)... 128.101.65.152\n",
      "Connecting to files.grouplens.org (files.grouplens.org)|128.101.65.152|:80... connected.\n",
      "HTTP request sent, awaiting response... 200 OK\n",
      "Length: 4924029 (4.7M) [application/zip]\n",
      "Saving to: ‘ml-100k.zip.1’\n",
      "\n",
      "     0K .......... .......... .......... .......... ..........  1%  545K 9s\n",
      "    50K .......... .......... .......... .......... ..........  2% 1018K 7s\n",
      "   100K .......... .......... .......... .......... ..........  3% 80.1M 4s\n",
      "   150K .......... .......... .......... .......... ..........  4%  172M 3s\n",
      "   200K .......... .......... .......... .......... ..........  5% 1.00M 3s\n",
      "   250K .......... .......... .......... .......... ..........  6%  140M 3s\n",
      "   300K .......... .......... .......... .......... ..........  7% 61.8M 2s\n",
      "   350K .......... .......... .......... .......... ..........  8% 1.02M 3s\n",
      "   400K .......... .......... .......... .......... ..........  9%  234M 2s\n",
      "   450K .......... .......... .......... .......... .......... 10%  118M 2s\n",
      "   500K .......... .......... .......... .......... .......... 11%  143M 2s\n",
      "   550K .......... .......... .......... .......... .......... 12%  153M 2s\n",
      "   600K .......... .......... .......... .......... .......... 13%  160M 2s\n",
      "   650K .......... .......... .......... .......... .......... 14% 83.9M 1s\n",
      "   700K .......... .......... .......... .......... .......... 15%  219M 1s\n",
      "   750K .......... .......... .......... .......... .......... 16% 1.04M 1s\n",
      "   800K .......... .......... .......... .......... .......... 17%  160M 1s\n",
      "   850K .......... .......... .......... .......... .......... 18%  154M 1s\n",
      "   900K .......... .......... .......... .......... .......... 19%  121M 1s\n",
      "   950K .......... .......... .......... .......... .......... 20%  167M 1s\n",
      "  1000K .......... .......... .......... .......... .......... 21%  130M 1s\n",
      "  1050K .......... .......... .......... .......... .......... 22%  137M 1s\n",
      "  1100K .......... .......... .......... .......... .......... 23%  150M 1s\n",
      "  1150K .......... .......... .......... .......... .......... 24%  148M 1s\n",
      "  1200K .......... .......... .......... .......... .......... 25%  154M 1s\n",
      "  1250K .......... .......... .......... .......... .......... 27%  157M 1s\n",
      "  1300K .......... .......... .......... .......... .......... 28%  128M 1s\n",
      "  1350K .......... .......... .......... .......... .......... 29%  120M 1s\n",
      "  1400K .......... .......... .......... .......... .......... 30%  170M 1s\n",
      "  1450K .......... .......... .......... .......... .......... 31%  159M 1s\n",
      "  1500K .......... .......... .......... .......... .......... 32%  157M 1s\n",
      "  1550K .......... .......... .......... .......... .......... 33% 1.10M 1s\n",
      "  1600K .......... .......... .......... .......... .......... 34%  173M 1s\n",
      "  1650K .......... .......... .......... .......... .......... 35% 90.4M 1s\n",
      "  1700K .......... .......... .......... .......... .......... 36%  116M 1s\n",
      "  1750K .......... .......... .......... .......... .......... 37%  125M 1s\n",
      "  1800K .......... .......... .......... .......... .......... 38%  174M 1s\n",
      "  1850K .......... .......... .......... .......... .......... 39%  211M 1s\n",
      "  1900K .......... .......... .......... .......... .......... 40%  173M 0s\n",
      "  1950K .......... .......... .......... .......... .......... 41%  128M 0s\n",
      "  2000K .......... .......... .......... .......... .......... 42%  104M 0s\n",
      "  2050K .......... .......... .......... .......... .......... 43%  142M 0s\n",
      "  2100K .......... .......... .......... .......... .......... 44%  128M 0s\n",
      "  2150K .......... .......... .......... .......... .......... 45%  188M 0s\n",
      "  2200K .......... .......... .......... .......... .......... 46%  191M 0s\n",
      "  2250K .......... .......... .......... .......... .......... 47% 92.9M 0s\n",
      "  2300K .......... .......... .......... .......... .......... 48%  162M 0s\n",
      "  2350K .......... .......... .......... .......... .......... 49%  197M 0s\n",
      "  2400K .......... .......... .......... .......... .......... 50%  177M 0s\n",
      "  2450K .......... .......... .......... .......... .......... 51%  116M 0s\n",
      "  2500K .......... .......... .......... .......... .......... 53%  185M 0s\n",
      "  2550K .......... .......... .......... .......... .......... 54%  163M 0s\n",
      "  2600K .......... .......... .......... .......... .......... 55%  134M 0s\n",
      "  2650K .......... .......... .......... .......... .......... 56%  167M 0s\n",
      "  2700K .......... .......... .......... .......... .......... 57% 32.4M 0s\n",
      "  2750K .......... .......... .......... .......... .......... 58% 57.9M 0s\n",
      "  2800K .......... .......... .......... .......... .......... 59%  269M 0s\n",
      "  2850K .......... .......... .......... .......... .......... 60%  363M 0s\n",
      "  2900K .......... .......... .......... .......... .......... 61%  280M 0s\n",
      "  2950K .......... .......... .......... .......... .......... 62%  340M 0s\n",
      "  3000K .......... .......... .......... .......... .......... 63%  336M 0s\n",
      "  3050K .......... .......... .......... .......... .......... 64% 1.27M 0s\n",
      "  3100K .......... .......... .......... .......... .......... 65% 95.0M 0s\n",
      "  3150K .......... .......... .......... .......... .......... 66% 65.1M 0s\n",
      "  3200K .......... .......... .......... .......... .......... 67% 84.8M 0s\n",
      "  3250K .......... .......... .......... .......... .......... 68%  174M 0s\n",
      "  3300K .......... .......... .......... .......... .......... 69%  108M 0s\n",
      "  3350K .......... .......... .......... .......... .......... 70%  165M 0s\n",
      "  3400K .......... .......... .......... .......... .......... 71%  139M 0s\n",
      "  3450K .......... .......... .......... .......... .......... 72%  160M 0s\n",
      "  3500K .......... .......... .......... .......... .......... 73%  102M 0s\n",
      "  3550K .......... .......... .......... .......... .......... 74%  185M 0s\n",
      "  3600K .......... .......... .......... .......... .......... 75%  118M 0s\n",
      "  3650K .......... .......... .......... .......... .......... 76%  199M 0s\n",
      "  3700K .......... .......... .......... .......... .......... 77%  121M 0s\n",
      "  3750K .......... .......... .......... .......... .......... 79%  185M 0s\n",
      "  3800K .......... .......... .......... .......... .......... 80%  147M 0s\n",
      "  3850K .......... .......... .......... .......... .......... 81%  148M 0s\n",
      "  3900K .......... .......... .......... .......... .......... 82% 97.9M 0s\n",
      "  3950K .......... .......... .......... .......... .......... 83%  149M 0s\n",
      "  4000K .......... .......... .......... .......... .......... 84%  170M 0s\n",
      "  4050K .......... .......... .......... .......... .......... 85%  160M 0s\n",
      "  4100K .......... .......... .......... .......... .......... 86% 98.2M 0s\n",
      "  4150K .......... .......... .......... .......... .......... 87%  125M 0s\n",
      "  4200K .......... .......... .......... .......... .......... 88% 68.3M 0s\n",
      "  4250K .......... .......... .......... .......... .......... 89%  204M 0s\n",
      "  4300K .......... .......... .......... .......... .......... 90%  125M 0s\n",
      "  4350K .......... .......... .......... .......... .......... 91% 74.2M 0s\n",
      "  4400K .......... .......... .......... .......... .......... 92%  196M 0s\n",
      "  4450K .......... .......... .......... .......... .......... 93%  322M 0s\n",
      "  4500K .......... .......... .......... .......... .......... 94% 72.2M 0s\n",
      "  4550K .......... .......... .......... .......... .......... 95%  265M 0s\n",
      "  4600K .......... .......... .......... .......... .......... 96% 1.29M 0s\n",
      "  4650K .......... .......... .......... .......... .......... 97% 49.4M 0s\n",
      "  4700K .......... .......... .......... .......... .......... 98% 58.6M 0s\n",
      "  4750K .......... .......... .......... .......... .......... 99%  192M 0s\n",
      "  4800K ........                                              100%  291M=0.4s\n",
      "\n",
      "2021-06-19 13:11:25 (10.7 MB/s) - ‘ml-100k.zip.1’ saved [4924029/4924029]\n",
      "\n"
     ]
    }
   ],
   "source": [
    "%%sh\n",
    "wget http://files.grouplens.org/datasets/movielens/ml-100k.zip\n",
    "unzip -o ml-100k.zip"
   ]
  },
  {
   "cell_type": "code",
   "execution_count": 4,
   "metadata": {},
   "outputs": [
    {
     "name": "stdout",
     "output_type": "stream",
     "text": [
      "/root/Learn-Amazon-SageMaker/sdkv2/ch4/ml-100k\n",
      "420\t475\t4\t891357162\n",
      "393\t690\t4\t887742110\n",
      "221\t70\t3\t875245870\n",
      "334\t154\t4\t891547235\n",
      "907\t596\t4\t880159015\n"
     ]
    }
   ],
   "source": [
    "%cd ml-100k\n",
    "!shuf ua.base -o ua.base.shuffled\n",
    "!head -5 ua.base.shuffled"
   ]
  },
  {
   "cell_type": "markdown",
   "metadata": {},
   "source": [
    "### Build training set and test set"
   ]
  },
  {
   "cell_type": "code",
   "execution_count": 5,
   "metadata": {},
   "outputs": [],
   "source": [
    "num_users=943\n",
    "num_movies=1682\n",
    "num_features=num_users+num_movies\n",
    "\n",
    "num_ratings_train=90570\n",
    "num_ratings_test=9430"
   ]
  },
  {
   "cell_type": "code",
   "execution_count": 6,
   "metadata": {},
   "outputs": [],
   "source": [
    "import csv\n",
    "import numpy as np\n",
    "from scipy.sparse import lil_matrix\n",
    "\n",
    "def loadDataset(filename, lines, columns):\n",
    "    # Features are one-hot encoded in a sparse matrix\n",
    "    X = lil_matrix((lines, columns)).astype('float32')\n",
    "    # Labels are stored in a vector\n",
    "    Y = []\n",
    "    line=0\n",
    "    with open(filename,'r') as f:\n",
    "        samples=csv.reader(f,delimiter='\\t')\n",
    "        for userId,movieId,rating,timestamp in samples:\n",
    "            X[line,int(userId)-1] = 1\n",
    "            X[line,int(num_users)+int(movieId)-1] = 1\n",
    "            Y.append(int(rating))\n",
    "            line=line+1       \n",
    "    Y=np.array(Y).astype('float32')\n",
    "    return X,Y"
   ]
  },
  {
   "cell_type": "code",
   "execution_count": 7,
   "metadata": {},
   "outputs": [],
   "source": [
    "X_train, Y_train = loadDataset('ua.base.shuffled', num_ratings_train, num_features)\n",
    "X_test, Y_test = loadDataset('ua.test', num_ratings_test, num_features)"
   ]
  },
  {
   "cell_type": "code",
   "execution_count": 8,
   "metadata": {},
   "outputs": [
    {
     "name": "stdout",
     "output_type": "stream",
     "text": [
      "(90570, 2625)\n",
      "(90570,)\n",
      "(9430, 2625)\n",
      "(9430,)\n"
     ]
    }
   ],
   "source": [
    "print(X_train.shape)\n",
    "print(Y_train.shape)\n",
    "assert X_train.shape == (num_ratings_train, num_features)\n",
    "assert Y_train.shape == (num_ratings_train, )\n",
    "\n",
    "print(X_test.shape)\n",
    "print(Y_test.shape)\n",
    "assert X_test.shape  == (num_ratings_test, num_features)\n",
    "assert Y_test.shape  == (num_ratings_test, )"
   ]
  },
  {
   "cell_type": "markdown",
   "metadata": {},
   "source": [
    "### Convert to protobuf and save to S3"
   ]
  },
  {
   "cell_type": "code",
   "execution_count": 9,
   "metadata": {},
   "outputs": [],
   "source": [
    "import sagemaker\n",
    "\n",
    "bucket = sagemaker.Session().default_bucket()\n",
    "prefix = 'adeelml-fm-movielens'\n",
    "\n",
    "train_key      = 'train.protobuf'\n",
    "train_prefix   = '{}/{}'.format(prefix, 'train')\n",
    "\n",
    "test_key       = 'test.protobuf'\n",
    "test_prefix    = '{}/{}'.format(prefix, 'test')\n",
    "\n",
    "output_prefix  = 's3://{}/{}/output'.format(bucket, prefix)"
   ]
  },
  {
   "cell_type": "code",
   "execution_count": 10,
   "metadata": {},
   "outputs": [
    {
     "name": "stdout",
     "output_type": "stream",
     "text": [
      "<_io.BytesIO object at 0x7ff0d3ddbcb0>\n",
      "<_io.BytesIO object at 0x7ff0da20f110>\n",
      "s3://sagemaker-us-west-1-886035371869/adeelml-fm-movielens/train/train.protobuf\n",
      "s3://sagemaker-us-west-1-886035371869/adeelml-fm-movielens/test/test.protobuf\n",
      "Output: s3://sagemaker-us-west-1-886035371869/adeelml-fm-movielens/output\n"
     ]
    }
   ],
   "source": [
    "import io, boto3\n",
    "import sagemaker.amazon.common as smac\n",
    "\n",
    "def writeDatasetToProtobuf(X, Y, bucket, prefix, key):\n",
    "    buf = io.BytesIO()\n",
    "    smac.write_spmatrix_to_sparse_tensor(buf, X, Y)\n",
    "    # use smac.write_numpy_to_dense_tensor(buf, feature, label) for numpy arrays\n",
    "    buf.seek(0)\n",
    "    print(buf)\n",
    "    obj = '{}/{}'.format(prefix, key)\n",
    "    boto3.resource('s3').Bucket(bucket).Object(obj).upload_fileobj(buf)\n",
    "    return 's3://{}/{}'.format(bucket,obj)\n",
    "    \n",
    "train_data = writeDatasetToProtobuf(X_train, Y_train, bucket, train_prefix, train_key)    \n",
    "test_data  = writeDatasetToProtobuf(X_test, Y_test, bucket, test_prefix, test_key)    \n",
    "  \n",
    "print(train_data)\n",
    "print(test_data)\n",
    "print('Output: {}'.format(output_prefix))"
   ]
  },
  {
   "cell_type": "markdown",
   "metadata": {},
   "source": [
    "### Run training job"
   ]
  },
  {
   "cell_type": "code",
   "execution_count": 11,
   "metadata": {},
   "outputs": [],
   "source": [
    "import boto3\n",
    "from sagemaker import image_uris\n",
    "\n",
    "region = boto3.Session().region_name    \n",
    "container = image_uris.retrieve('pca', region)"
   ]
  },
  {
   "cell_type": "code",
   "execution_count": null,
   "metadata": {},
   "outputs": [
    {
     "name": "stdout",
     "output_type": "stream",
     "text": [
      "2021-06-19 13:11:47 Starting - Starting the training job...\n",
      "2021-06-19 13:11:49 Starting - Launching requested ML instancesProfilerReport-1624108307: InProgress\n",
      "......\n",
      "2021-06-19 13:13:13 Starting - Preparing the instances for training........."
     ]
    }
   ],
   "source": [
    "pca = sagemaker.estimator.Estimator(container,\n",
    "                                   role=sagemaker.get_execution_role(),\n",
    "                                   instance_count=1, \n",
    "                                   instance_type='ml.c5.xlarge',\n",
    "                                   output_path=output_prefix\n",
    "                                   )\n",
    "\n",
    "pca.set_hyperparameters(feature_dim=num_features,\n",
    "                      num_components=64,\n",
    "                      mini_batch_size=1024)\n",
    "\n",
    "pca.fit({'train': train_data, 'test': test_data})"
   ]
  },
  {
   "cell_type": "markdown",
   "metadata": {},
   "source": [
    "### Deploy model"
   ]
  },
  {
   "cell_type": "code",
   "execution_count": null,
   "metadata": {
    "scrolled": true
   },
   "outputs": [],
   "source": [
    "endpoint_name = 'pca-movielens-100k'\n",
    "pca_predictor = pca.deploy(endpoint_name=endpoint_name,\n",
    "                         instance_type='ml.t2.medium', initial_instance_count=1)"
   ]
  },
  {
   "cell_type": "code",
   "execution_count": null,
   "metadata": {},
   "outputs": [],
   "source": [
    "import json\n",
    "\n",
    "from sagemaker.deserializers import JSONDeserializer\n",
    "from sagemaker.serializers import JSONSerializer\n",
    "\n",
    "class PCASerializer(JSONSerializer):\n",
    "    def serialize(self, data):\n",
    "       js = {'instances': []}\n",
    "       for row in data:\n",
    "              js['instances'].append({'features': row.tolist()})\n",
    "       return json.dumps(js)\n",
    "\n",
    "pca_predictor.serializer = PCASerializer()\n",
    "pca_predictor.deserializer = JSONDeserializer()"
   ]
  },
  {
   "cell_type": "markdown",
   "metadata": {},
   "source": [
    "### Run predictions"
   ]
  },
  {
   "cell_type": "code",
   "execution_count": null,
   "metadata": {},
   "outputs": [],
   "source": [
    "result = pca_predictor.predict(X_test[0].toarray())\n",
    "print(result)"
   ]
  },
  {
   "cell_type": "code",
   "execution_count": null,
   "metadata": {},
   "outputs": [],
   "source": [
    "pca_predictor.delete_endpoint()"
   ]
  },
  {
   "cell_type": "code",
   "execution_count": null,
   "metadata": {},
   "outputs": [],
   "source": []
  }
 ],
 "metadata": {
  "kernelspec": {
   "display_name": "Python 3 (Data Science)",
   "language": "python",
   "name": "python3__SAGEMAKER_INTERNAL__arn:aws:sagemaker:us-west-1:742091327244:image/datascience-1.0"
  },
  "language_info": {
   "codemirror_mode": {
    "name": "ipython",
    "version": 3
   },
   "file_extension": ".py",
   "mimetype": "text/x-python",
   "name": "python",
   "nbconvert_exporter": "python",
   "pygments_lexer": "ipython3",
   "version": "3.7.10"
  }
 },
 "nbformat": 4,
 "nbformat_minor": 4
}
